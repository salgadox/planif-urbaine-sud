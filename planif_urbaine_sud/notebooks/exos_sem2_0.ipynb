{
 "cells": [
  {
   "cell_type": "markdown",
   "metadata": {},
   "source": [
    "# 1. Exercise - Geometry \n",
    "In this exercise, you will create different types of geometries (points, lines, polygons) and visualize them using the Shapely library.\n",
    "\n",
    "- Create a point geometry at coordinates (-122.4194, 37.7749) representing the location of San Francisco.\n",
    "- Create a line geometry connecting the following coordinates: (-122.4194, 37.7749), (-122.4086, 37.8199), (-122.3917, 37.7394).\n",
    "- Create a polygon geometry representing a square with corners at coordinates: (-122.4194, 37.7749), (-122.4086, 37.7749), (-122.4086, 37.8199), (-122.4194, 37.8199).\n",
    "- Visualize each geometry using matplotlib."
   ]
  },
  {
   "cell_type": "code",
   "execution_count": 1,
   "metadata": {},
   "outputs": [],
   "source": [
    "# Import necessary libraries: \n",
    "# shapely (and its geometries)\n",
    "# import libraty for visualization \n",
    "\n",
    "# Create geometries:\n",
    "# Create point geometry\n",
    "\n",
    "# Create line geometry\n",
    "\n",
    "# Create polygon geometry\n",
    "\n",
    "# Plot\n",
    "# Visualize geometries\n"
   ]
  },
  {
   "cell_type": "markdown",
   "metadata": {},
   "source": [
    "The result should look like this: \n",
    "\n",
    "![](../images/geom_Exo.png)"
   ]
  },
  {
   "cell_type": "markdown",
   "metadata": {},
   "source": [
    "# Bonus : "
   ]
  },
  {
   "cell_type": "markdown",
   "metadata": {},
   "source": [
    "Plot the following examples : "
   ]
  },
  {
   "cell_type": "code",
   "execution_count": 1,
   "metadata": {},
   "outputs": [
    {
     "name": "stdout",
     "output_type": "stream",
     "text": [
      "1. Does the line (0,0, (1,1)) contains this points?\n",
      "Point 1: (0, 0)? :  False\n",
      "Point2 : (0.5, 0.5)? :  True\n",
      "2. Does the area ([(0, 0), (1, 0), (1, 1), (0, 1), (0, 0)]), containt this geometries?\n",
      "Point1: (0,0)? :  False\n",
      "Line: (0,0, (1,1)? :  True\n",
      "3. Does this polygon with a hole contains this geometries?\n",
      "Point 1: (0,0)? :  True\n",
      "Line : (1, 1), (5, 5)? :   False\n",
      "Area (0, 0), (1, 0), (1, 1), (0, 1), (0, 0)? :  True\n"
     ]
    }
   ],
   "source": [
    "# Contains function\n",
    "from shapely import contains, LineString, Point, Polygon\n",
    "\n",
    "print(\"1. Does the line (0,0, (1,1)) contains this points?\")\n",
    "line = LineString([(0, 0), (1, 1)])\n",
    "print(\"Point 1: (0, 0)? : \", contains(line, Point(0, 0)))\n",
    "print(\"Point2 : (0.5, 0.5)? : \", contains(line, Point(0.5, 0.5)))\n",
    "\n",
    "print(\n",
    "    \"2. Does the area ([(0, 0), (1, 0), (1, 1), (0, 1), (0, 0)]), containt this geometries?\"\n",
    ")\n",
    "area = Polygon([(0, 0), (1, 0), (1, 1), (0, 1), (0, 0)])\n",
    "print(\"Point1: (0,0)? : \", contains(area, Point(0, 0)))\n",
    "print(\"Line: (0,0, (1,1)? : \", contains(area, line))\n",
    "\n",
    "\n",
    "print(\"3. Does this polygon with a hole contains this geometries?\")\n",
    "polygon_with_hole = Polygon(\n",
    "    [(0, 0), (0, 10), (10, 10), (10, 0), (0, 0)],\n",
    "    holes=[[(2, 2), (2, 4), (4, 4), (4, 2), (2, 2)]],\n",
    ")\n",
    "print(\"Point 1: (0,0)? : \", contains(polygon_with_hole, Point(1, 1)))\n",
    "print(\n",
    "    \"Line : (1, 1), (5, 5)? :  \",\n",
    "    contains(polygon_with_hole, LineString([(1, 1), (5, 5)])),\n",
    ")\n",
    "print(\"Area (0, 0), (1, 0), (1, 1), (0, 1), (0, 0)? : \", contains(area, area))"
   ]
  }
 ],
 "metadata": {
  "kernelspec": {
   "display_name": "planif_urbaine_sud",
   "language": "python",
   "name": "python3"
  },
  "language_info": {
   "codemirror_mode": {
    "name": "ipython",
    "version": 3
   },
   "file_extension": ".py",
   "mimetype": "text/x-python",
   "name": "python",
   "nbconvert_exporter": "python",
   "pygments_lexer": "ipython3",
   "version": "3.11.8"
  }
 },
 "nbformat": 4,
 "nbformat_minor": 2
}
