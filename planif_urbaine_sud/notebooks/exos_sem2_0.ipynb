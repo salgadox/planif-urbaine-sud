{
 "cells": [
  {
   "cell_type": "markdown",
   "metadata": {},
   "source": [
    "# Geometry Exercise\n",
    "In this exercise, you will create different types of geometries (points, lines, polygons) and visualize them using the Shapely library.\n",
    "\n",
    "- Create a point geometry at coordinates (-122.4194, 37.7749) representing the location of San Francisco.\n",
    "- Create a line geometry connecting the following coordinates: (-122.4194, 37.7749), (-122.4086, 37.8199), (-122.3917, 37.7394).\n",
    "- Create a polygon geometry representing a square with corners at coordinates: (-122.4194, 37.7749), (-122.4086, 37.7749), (-122.4086, 37.8199), (-122.4194, 37.8199).\n",
    "- Visualize each geometry using matplotlib."
   ]
  },
  {
   "cell_type": "code",
   "execution_count": 1,
   "metadata": {},
   "outputs": [],
   "source": [
    "# Import necessary libraries: \n",
    "# shapely (and its geometries)\n",
    "# import libraty for visualization \n",
    "\n",
    "# Create geometries:\n",
    "# Create point geometry\n",
    "\n",
    "# Create line geometry\n",
    "\n",
    "# Create polygon geometry\n",
    "\n",
    "# Plot\n",
    "# Visualize geometries\n"
   ]
  },
  {
   "cell_type": "markdown",
   "metadata": {},
   "source": [
    "The result should look like this: \n",
    "\n",
    "![](../images/geom_Exo.png)"
   ]
  },
  {
   "cell_type": "markdown",
   "metadata": {},
   "source": []
  }
 ],
 "metadata": {
  "kernelspec": {
   "display_name": "planif_urbaine_sud",
   "language": "python",
   "name": "python3"
  },
  "language_info": {
   "codemirror_mode": {
    "name": "ipython",
    "version": 3
   },
   "file_extension": ".py",
   "mimetype": "text/x-python",
   "name": "python",
   "nbconvert_exporter": "python",
   "pygments_lexer": "ipython3",
   "version": "3.11.8"
  }
 },
 "nbformat": 4,
 "nbformat_minor": 2
}
