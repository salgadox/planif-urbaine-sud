{
 "cells": [
  {
   "cell_type": "markdown",
   "metadata": {},
   "source": [
    "# Initial Setup "
   ]
  },
  {
   "cell_type": "markdown",
   "metadata": {},
   "source": [
    "## 1. Anaconda or Miniconda \n",
    "You can choose to install either of them but you should take into account that Anaconda is suitable for users who want a comprehensive data science platform with many pre-installed packages, while Miniconda is more lightweight and allow you to install only the packages that you need.\n",
    "\n",
    "1. Anaconda is a free Python/R data science distribution that contains:\n",
    "    - conda: a package and environment manager for your command line interface\n",
    "    - Anaconda Navigator: a desktop application built on conda, with options to launch other development applications from your managed environments\n",
    "    - 250 automatically-installed packages that work well together out of the box\n",
    "    - Access to the Anaconda Public Repository, with 8000 open-source data science and machine learning packages\n",
    "\n",
    "2. Miniconda is a mini version of Anaconda that includes only: \n",
    "    - conda, \n",
    "    - Python, \n",
    "    - the packages they both depend on, \n",
    "    - and a small number of other useful packages (like pip, zlib, and a few others)\n",
    "\n",
    " ### 1.1 Installation \n",
    "\n",
    "To install Anaconda, [download the binary](https://www.anaconda.com/download/) and follow the instructions.\n",
    "\n",
    "- [Installing on Windows](https://docs.anaconda.com/free/anaconda/install/windows/) \n",
    "- [Installing on MacOs](https://docs.anaconda.com/free/anaconda/install/mac-os/)\n",
    "- [Intalling on Linux](https://docs.anaconda.com/free/anaconda/install/linux/)  \n",
    "\n",
    " To install Miniconda, [download the installer](https://docs.anaconda.com/free/miniconda/) and follow the instructions. \n",
    "\n",
    " ### 1.2 Usefull Information \n",
    " For more information about Anaconda check out their [documentation](https://docs.anaconda.com/free/anaconda/)."
   ]
  },
  {
   "cell_type": "markdown",
   "metadata": {},
   "source": [
    "### 1.2 Terminal: Usefull conda commands: \n",
    "```\n",
    "# Verify conda is installed, check version number\n",
    "conda info \n",
    "# Update conda to the current version\n",
    "conda update conda \n",
    "# Install package\n",
    "cona install `package-name`\n",
    "```"
   ]
  },
  {
   "cell_type": "markdown",
   "metadata": {},
   "source": [
    "## 2. Environment Setup \n",
    "\n",
    "After installing Anaconda or Miniconda, it's essential to set up Python environments for your projects. \n",
    "Conda allows you to create isolated environments with specific Python versions and package dependencies. This helps avoid conflicts between different projects and ensures reproducibility.\n",
    "\n",
    "### 2.1 Donwload the course environment\n",
    "- [Get the environment](https://raw.githubusercontent.com/salgadox/planif-urbaine-sud/main/environment.yml) for this course. \n",
    "- Copy the raw text and create a '.yml' file named 'environment.yml'.\n",
    "- Inside the YAML file you will fine all the packages that we will be using during this course.\n",
    "\n",
    "### 2.2 Create and activate a new environment in conda \n",
    "In your terminal, use the following command to: \n",
    "- Create an environment with the YAMl file : ```conda env create -f environment.yml```\n",
    "- Activate the environmet ```conda activate my_env```\n",
    "- Replace ```'my_env'``` with the name of your environment, in our case: ```planif_urbaine_sud```\n",
    "\n",
    "### 2.3 Terminal: Usefull commands to know: \n",
    "\n",
    "```\n",
    "# list all the conda environment available\n",
    "conda info --envs  \n",
    "# Create new environment named as 'my_env'\n",
    "conda create --name my_env\n",
    "# Remove environment and its dependencies\n",
    "conda remove --name my_env --all\n",
    "# Clone an existing environment\n",
    "conda create --name clone_envname --clone my_env\n",
    "```"
   ]
  },
  {
   "cell_type": "markdown",
   "metadata": {},
   "source": [
    "## 3. Verification \n",
    "- After installing Anaconda or Miniconda and setting up your environment, it's important to verify that everything is working correctly.\n",
    "    1. Verify Python Installation: Open a terminal or command prompt and type ``python --version`` to check the installed Python version. You should see the version number you specified during installation.\n",
    "\n",
    "    2. Verify Package Installation: you can verify their installation by importing them in a Python script or interactive session. For example: \n",
    "    ```\n",
    "    import geopandas \n",
    "    import matplotlib\n",
    "    ```\n",
    "    If there are no errors, it means the packages were installed successfully.\n",
    "   \n",
    "    3. Test Environment: Create a new Python script and run some basic code to ensure that your environment is functioning as expected. For example, you can create a script named test.py with the following content:\n",
    "\n",
    "    ```print(\"Hello, world!\")```\n",
    "\n",
    "    Run the script using ``python test.py`` and verify that it prints the expected output without any errors."
   ]
  },
  {
   "cell_type": "markdown",
   "metadata": {},
   "source": [
    "## 4. Jupyter-lab"
   ]
  },
  {
   "cell_type": "markdown",
   "metadata": {},
   "source": [
    "JupyterLab and Jupyter Notebook are interactive computing environments that allow you to create and share documents containing live code, equations, visualizations, and narrative text.\n",
    "\n",
    "JupyterLab\n",
    "JupyterLab is the next-generation web-based user interface for Project Jupyter.\n",
    "\n",
    "#### 4.1 Installation and launching \n",
    "\n",
    "\n",
    "- Installing Jupiter Lab,  open a terminal or command prompt and type: `conda install -c conda-forge jupyterlab `\n",
    "- To launch JupyterLab, in the terminal type: ```jupyter-lab```\n",
    "\n",
    "- To launch Jupyter Notebook, open a terminal or command prompt and type: ``jupyter notebook``.\n",
    "This command starts a local server and opens Jupyter Notebook in your default web browser. From Jupyter Notebook, you can create new notebooks, edit existing ones, and execute code cells interactivel\n",
    "\n",
    "#### 4.2 Useful Information\n",
    "\n",
    "For more information about JupyterLab and Jupyter Notebook, check out their respective documentation:\n",
    "\n",
    "- [JupyterLab Documentation](https://docs.jupyter.org/en/latest/)\n"
   ]
  }
 ],
 "metadata": {
  "kernelspec": {
   "display_name": "planification_urbaine_sud",
   "language": "python",
   "name": "python3"
  },
  "language_info": {
   "codemirror_mode": {
    "name": "ipython",
    "version": 3
   },
   "file_extension": ".py",
   "mimetype": "text/x-python",
   "name": "python",
   "nbconvert_exporter": "python",
   "pygments_lexer": "ipython3",
   "version": "3.11.7"
  }
 },
 "nbformat": 4,
 "nbformat_minor": 2
}
