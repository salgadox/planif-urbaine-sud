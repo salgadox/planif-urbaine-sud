{
 "cells": [
  {
   "cell_type": "markdown",
   "metadata": {},
   "source": [
    "# Exercise: Plotting Flood Extent and Risk Codes\n",
    "In this exercise, you will create a plot that visualizes flood extent and risk codes using geospatial data.\n",
    "\n",
    "- Flood Hazard and Risk Assessment \n",
    "\n",
    "Flood Hazard and Risk Mapping is a vital component for appropriate land use planning in flood-prone \n",
    "areas. First of all, Flood Hazard and Risk Maps are designed to increase awareness of the likelihood of flooding among the public, local authorities and other organisations.  \n",
    "Specific flood regimes and underlying causes for the flooding events in the area of interest have to be analysed carefully, as these can be very varied in different regions\n",
    "\n",
    "## Instructions: \n",
    "### 1. Setup Environment:\n",
    "Import the required libraries: \n",
    " - geopandas\n",
    " - matplotlib (.pyplot and optionally .lines Line2D)\n",
    " - contextily\n",
    " - shapely.geometry (Polygon, box)\n",
    " - osmnx\n",
    " - requests\n",
    " "
   ]
  },
  {
   "cell_type": "markdown",
   "metadata": {},
   "source": [
    "### 2. Download the data from the urls and create the GeoDataFrames "
   ]
  },
  {
   "cell_type": "code",
   "execution_count": null,
   "metadata": {},
   "outputs": [],
   "source": [
    "# Data urls\n",
    "\n",
    "flood_extent_url = \"https://datacatalogfiles.worldbank.org/ddh-published/0042289/DR0052924/eo4sd_saint_louis_flood_2018.zip?versionId=2023-01-19T10:24:47.0743031Z\"\n",
    "\n",
    "flood_hazard_url = \"https://datacatalogfiles.worldbank.org/ddh-published/0038461/DR0046959/eo4sd_saint_louis_fhazard_2018.zip?versionId=2023-01-19T06:11:38.4791729Z\""
   ]
  },
  {
   "cell_type": "markdown",
   "metadata": {},
   "source": [
    "### Metadata \n",
    "For more information abour the datasets please refer to the [metadata](https://drive.switch.ch/index.php/s/cKLrNLQmVFbKB3M?path=%2FWorld-Bank_EO4SD#pdfviewer)"
   ]
  },
  {
   "cell_type": "markdown",
   "metadata": {},
   "source": [
    " Usefull functions"
   ]
  },
  {
   "cell_type": "code",
   "execution_count": null,
   "metadata": {},
   "outputs": [],
   "source": [
    "def download_file(url, filepath):\n",
    "    \"\"\"\n",
    "    Download content from the provided URL and save it to the specified file path.\n",
    "\n",
    "    Parameters:\n",
    "        url (str): The URL to download content from.\n",
    "        filepath (str): The file path to save the downloaded content.\n",
    "\n",
    "    Returns:\n",
    "        None\n",
    "    \"\"\"\n",
    "    # Send a GET request to the URL to fetch the content\n",
    "    response = requests.get(url)\n",
    "\n",
    "    # Write the content to the specified file path in binary mode\n",
    "    with open(filepath, \"wb\") as f:\n",
    "        f.write(response.content)"
   ]
  },
  {
   "cell_type": "code",
   "execution_count": null,
   "metadata": {},
   "outputs": [],
   "source": [
    "# Set your variables\n",
    "\n",
    "# zip filepaths\n",
    "# NOTE: The download filepath for the zip file need to have the extension (\".zip\")\n",
    "# flood_extent_zip_filepath = \"\"\n",
    "# flood_hazard_zip_filepath = \"\"\n",
    "\n",
    "# geoPackage filepaths\n",
    "# NOTE: Make sure to add the geopackage extension (.gpkg)\n",
    "# flood_extent_filepath =  \"\"\n",
    "# flood_hazard_filepath = \"\""
   ]
  },
  {
   "cell_type": "code",
   "execution_count": null,
   "metadata": {},
   "outputs": [],
   "source": [
    "# Download the data\n",
    "# download_file(url, filepath)\n",
    "\n",
    "\n",
    "# Open the zip file as geodataframe (using geopandas)\n",
    "# NOTE: use the gpd.read_file() function"
   ]
  },
  {
   "cell_type": "markdown",
   "metadata": {},
   "source": [
    "### 3. Set your Areo Of Interest.\n",
    "\n",
    "In this exercise we will provide you the AOI and you can set it manually. \n"
   ]
  },
  {
   "cell_type": "code",
   "execution_count": null,
   "metadata": {},
   "outputs": [],
   "source": [
    "# The area of interest is a polygon chosen to cover a bigger area that the one we use in the demo.\n",
    "xmin, ymin, xmax, ymax = [\n",
    "    -16.83,\n",
    "    14.80,\n",
    "    -14.58,\n",
    "    16.84,\n",
    "]  # note: x,y values for EPSG 4326\n",
    "\n",
    "# Use the box function to create the city bbox geometry\n",
    "# city_bbox_geom ="
   ]
  },
  {
   "cell_type": "markdown",
   "metadata": {},
   "source": [
    "Create the geoDataFrame of the city boundary\n",
    "\n",
    "NOTE: Do not forget to add the CRSn ( in our case we will be using the CRS longitud, latitud : CRS_LON_LAT = 4326)"
   ]
  },
  {
   "cell_type": "code",
   "execution_count": null,
   "metadata": {},
   "outputs": [],
   "source": [
    "# Use the gpd.GeoDataFrame(geometry, crs) function.\n",
    "# city_boundary_gdf ="
   ]
  },
  {
   "cell_type": "markdown",
   "metadata": {},
   "source": [
    "### 4. Plot the city boundary geoDataFrame \n",
    "You should get a result similar to this one : \n",
    "\n",
    "![](../images/city_bound_gdf.png)"
   ]
  },
  {
   "cell_type": "markdown",
   "metadata": {},
   "source": [
    "### 4. Filter the data and create a new geoDataFrame "
   ]
  },
  {
   "cell_type": "code",
   "execution_count": null,
   "metadata": {},
   "outputs": [],
   "source": [
    "# Project the city boundary to the crs od the land use geoDataFrame\n",
    "# proj_city_boundary_gdf =\n",
    "\n",
    "\n",
    "# Extract the geometry from the reprojected geoDataFrame\n",
    "# proj_bbox\n",
    "\n",
    "# Intersect the data usinng the intersect function\n",
    "# flood_hazad_gdf =\n",
    "# flood_extent_gdf ="
   ]
  },
  {
   "cell_type": "markdown",
   "metadata": {},
   "source": [
    "Your Flood hazard gdf table shouls look like this \n",
    "\n",
    "![](../images/hazad_table.png)\n"
   ]
  },
  {
   "cell_type": "markdown",
   "metadata": {},
   "source": [
    "Your flood extent gdf table shouls look like this \n",
    "\n",
    "![](../images/extent_table.png)"
   ]
  },
  {
   "cell_type": "markdown",
   "metadata": {},
   "source": [
    "## 5. Plots \n",
    "We want to visualized the flooded areas of the map and compare it with the risk of flood hazards in the same area. \n",
    "\n",
    "For this we will target the \"WATERTYPE\" attribut from the flood extent geoDataFrame and the \"RISKCODE_H\" from the flood hazard geoDataFrame. \n",
    "\n",
    "We want to visualize only the risk 2 (medium) and 3 (high risk) of the flood hazard geoDataFrame. \n",
    "\n",
    "\n",
    "The final plot should look similar to this: \n",
    "\n",
    "![](../images/flooded_risk_code_plot.png)\n",
    "\n",
    "\n",
    "\n",
    "In order to plot the figure above, here are some usefull tips:\n",
    "\n",
    "\n",
    "- Create Subplots:\n",
    "Create a figure with two subplots side by side.\n",
    "Set the figure size.\n",
    "\n",
    "\n",
    "- Plot Flooded Areas:\n",
    "Plot the filtered flooded areas on the first subplot (ax1):\n",
    "Use red color for the flooded areas.\n",
    "Set the edge color to black.\n",
    "Set the transparency to 0.7.\n",
    "Add a basemap using contextily\n",
    "\n",
    "\n",
    "\n",
    "- Plot Risk Codes:\n",
    "Filter flood_hazard_gdf for risk codes 2 and 3.\n",
    "Plot risk code 2 areas in orange and risk code 3 areas in red on the second subplot (ax2).\n",
    "Set the edge color to black and the transparency to 0.8 for both.\n",
    "Add a basemap using contextily for the second subplot.\n",
    "\n",
    "- Customize Plot:\n",
    "Turn off axis for both subplots.\n",
    "Set titles for both subplots: \"Flooded\" and \"Risk code\".\n",
    "Create custom legend handles:\n",
    "Orange circle for Risk 2.\n",
    "Red circle for Risk 3.\n",
    "\n",
    "- Add Legend:\n",
    "Add the custom legend handles to the second subplot (ax2).\n",
    "Position the legend appropriately.\n"
   ]
  }
 ],
 "metadata": {
  "kernelspec": {
   "display_name": "planification_urbaine_sud",
   "language": "python",
   "name": "python3"
  },
  "language_info": {
   "codemirror_mode": {
    "name": "ipython",
    "version": 3
   },
   "file_extension": ".py",
   "mimetype": "text/x-python",
   "name": "python",
   "nbconvert_exporter": "python",
   "pygments_lexer": "ipython3",
   "version": "3.11.7"
  }
 },
 "nbformat": 4,
 "nbformat_minor": 2
}
