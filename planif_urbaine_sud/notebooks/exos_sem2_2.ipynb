{
 "cells": [
  {
   "cell_type": "markdown",
   "metadata": {},
   "source": [
    "# Exercise: Exploring Urban Networks with OSMnx\n",
    "\n",
    "In this exercise, you will be focusing on \"Saint-Louis, Senegal\" as your area of interest. For this task, imagine that you are in \"\" university and  suddenly you need to get to the \"\" hospital as quickly as possible. \n",
    "\n",
    "This exercise simulates that scenario by tasking you with finding the shortest route from your current location to the hospital.  \n",
    "\n",
    "Throughout this exercise, you will learn how to:\n",
    "\n",
    "- Download the street network of a city using OSMnx.\n",
    "- Retrieve specific points of interest within the city.\n",
    "- Calculate the shortest path between a target hospital and a target university.\n",
    "- Measure the distance between these two points along the shortest path.\n",
    "- Visualize the street network, the selected points of interest, and the shortest path on a map."
   ]
  },
  {
   "cell_type": "markdown",
   "metadata": {},
   "source": [
    "## Instructions: \n",
    "### 1. Setup Environment:\n",
    "Import the required libraries: \n",
    " - geopandas\n",
    " - matplotlib \n",
    " - osmnx"
   ]
  },
  {
   "cell_type": "code",
   "execution_count": null,
   "metadata": {},
   "outputs": [],
   "source": [
    "# imports"
   ]
  },
  {
   "cell_type": "markdown",
   "metadata": {},
   "source": [
    "Next, define the area of interest (AOI) for your analysis. For this exercise, let's focus on Saint Louis, Senegal."
   ]
  },
  {
   "cell_type": "code",
   "execution_count": null,
   "metadata": {},
   "outputs": [],
   "source": [
    "# city_aoi"
   ]
  },
  {
   "cell_type": "markdown",
   "metadata": {},
   "source": [
    "### 2. Download and visualize a street network"
   ]
  },
  {
   "cell_type": "code",
   "execution_count": null,
   "metadata": {},
   "outputs": [],
   "source": [
    "# download/model a street network for some city then visualize it\n",
    "# G ="
   ]
  },
  {
   "cell_type": "code",
   "execution_count": null,
   "metadata": {},
   "outputs": [],
   "source": [
    "# Plot the street network graph"
   ]
  },
  {
   "cell_type": "code",
   "execution_count": null,
   "metadata": {},
   "outputs": [],
   "source": [
    "# Convert your graph to node and edge GeoPandas GeoDataFrames\n",
    "# gdf_nodes, gdf_edges ="
   ]
  },
  {
   "cell_type": "markdown",
   "metadata": {},
   "source": [
    "### 3. Download the POI data from OSM \n",
    "\n",
    "Usefull functions : \n",
    "`features_from_place(aoi,tags={})`"
   ]
  },
  {
   "cell_type": "markdown",
   "metadata": {},
   "source": [
    "We are targeting the 'Hôpital régional de Saint-Louis' hospital and the 'Université Gaston Berger' university. \n",
    "In order to get the faster rout from the university to the hospital we need to get their coordinates. \n",
    "\n",
    "Please note that the targeted locations are polygons. This means that we have multiple x,y coordinates.\n",
    "For the sake of the exercise, we will get the coordinate from the centroid.\n",
    "So you need to : \n",
    "\n",
    "1. Target the hospital filtering the table by 'name'.\n",
    "2. Target the univertiy filtering the table by 'name'.\n",
    "3. Get their x,y coordinated from its centroid.\n",
    "\n",
    "Tips: \n",
    "If you are having problemas, go ahead and check out the documentation from  : \n",
    "- The [centroid](https://geopandas.org/en/stable/docs/reference/api/geopandas.GeoSeries.centroid.html) property.  \n",
    "- The [get_coordinates](https://geopandas.org/en/stable/docs/reference/api/geopandas.GeoSeries.get_coordinates.html) function. \n",
    "-  Pandas [iloc](https://geopandas.org/en/stable/docs/reference/api/geopandas.GeoSeries.get_coordinates.html) property. "
   ]
  },
  {
   "cell_type": "markdown",
   "metadata": {},
   "source": [
    "#### 3.1 Hospital "
   ]
  },
  {
   "cell_type": "code",
   "execution_count": null,
   "metadata": {},
   "outputs": [],
   "source": [
    "# Download hospitals within the bounding box of the street network\n",
    "# hospitals ="
   ]
  },
  {
   "cell_type": "code",
   "execution_count": null,
   "metadata": {},
   "outputs": [],
   "source": [
    "# Filter the gdf by name in order to find the 'Hôpital régional de Saint-Louis' hospital.\n",
    "# target_hospital"
   ]
  },
  {
   "cell_type": "markdown",
   "metadata": {},
   "source": [
    "#### 3.2 University\n"
   ]
  },
  {
   "cell_type": "code",
   "execution_count": null,
   "metadata": {},
   "outputs": [],
   "source": [
    "# Download universities within the bounding box of the street network\n",
    "# universities ="
   ]
  },
  {
   "cell_type": "code",
   "execution_count": null,
   "metadata": {},
   "outputs": [],
   "source": [
    "# Filter the gdf by name in order to find the 'Université Gaston Berger' university.\n",
    "# target_university"
   ]
  },
  {
   "cell_type": "markdown",
   "metadata": {},
   "source": [
    "#### 3.3 Get the coordinates: "
   ]
  },
  {
   "cell_type": "code",
   "execution_count": null,
   "metadata": {},
   "outputs": [],
   "source": [
    "# Get the x,y coodrinates from the polygons centroids\n",
    "# x_orig =\n",
    "# y_orig =\n",
    "\n",
    "# x_dest =\n",
    "# y_dest ="
   ]
  },
  {
   "cell_type": "markdown",
   "metadata": {},
   "source": [
    "### 4. Get the shortes path"
   ]
  },
  {
   "cell_type": "code",
   "execution_count": null,
   "metadata": {},
   "outputs": [],
   "source": [
    "# Impute missing edge speeds and calculate edge travel times with the speed module"
   ]
  },
  {
   "cell_type": "code",
   "execution_count": null,
   "metadata": {},
   "outputs": [],
   "source": [
    "# Get the nearest network nodes to two lat/lng points with the distance module"
   ]
  },
  {
   "cell_type": "code",
   "execution_count": null,
   "metadata": {},
   "outputs": [],
   "source": [
    "# find the shortest path between nodes, minimizing travel time, then plot it"
   ]
  },
  {
   "cell_type": "code",
   "execution_count": null,
   "metadata": {},
   "outputs": [],
   "source": [
    "# how long is our route in meters?"
   ]
  },
  {
   "cell_type": "code",
   "execution_count": null,
   "metadata": {},
   "outputs": [],
   "source": [
    "# plot the route"
   ]
  },
  {
   "cell_type": "markdown",
   "metadata": {},
   "source": [
    "You shoul get something like this: \n",
    "\n",
    "\n",
    "![](../images/route_exo2_2.png)\n"
   ]
  }
 ],
 "metadata": {
  "kernelspec": {
   "display_name": "planification_urbaine_sud",
   "language": "python",
   "name": "python3"
  },
  "language_info": {
   "codemirror_mode": {
    "name": "ipython",
    "version": 3
   },
   "file_extension": ".py",
   "mimetype": "text/x-python",
   "name": "python",
   "nbconvert_exporter": "python",
   "pygments_lexer": "ipython3",
   "version": "3.11.7"
  }
 },
 "nbformat": 4,
 "nbformat_minor": 2
}
