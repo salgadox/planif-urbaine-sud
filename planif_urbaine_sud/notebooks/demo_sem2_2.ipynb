{
 "cells": [
  {
   "cell_type": "markdown",
   "metadata": {},
   "source": [
    "# Demo 2: Retrieving OpenStreetMap Data"
   ]
  },
  {
   "cell_type": "markdown",
   "metadata": {},
   "source": [
    "## 1. What is OpenStreetMap? \n",
    "\n",
    "[OpenStreetMap (OSM)](https://www.openstreetmap.org/#map=12/46.5535/6.6524&layers=D) is a free, crowd-sourced, open geographic database updated and maintained by a community of volunteers via open collaboration. Launched in 2004, it has grown into one of the most comprehensive and detailed sources of geographic information available\n",
    "\n",
    "\n",
    "\n",
    "### Key Features of OSM Data: \n",
    "\n",
    " 1. Geometries: OSM data consists of geometries such as points, lines, and polygons representing various geographic features like roads, buildings, parks, and more.\n",
    "\n",
    " 2. Attributes: Each geometry in OSM is associated with a set of attributes, providing additional information about the feature, such as its name, type, and other relevant metadata.\n",
    "\n",
    " 3. Tagging System: OSM uses a tagging system to organize and classify different types of features. Tags consist of key-value pairs that describe the properties of a feature. For example, a road might be tagged with \"highway=residential\" to indicate it is a residential street.\n",
    "\n",
    " 4. Community Contributions: OSM data is created and maintained by a global community of volunteers. Contributors use satellite imagery, GPS devices, and local knowledge to update and improve the map.\n",
    "\n",
    "### Applications of OSM Data:\n",
    "\n",
    " - Urban Planning and Development: OSM data is valuable for urban planners and developers to analyze the built environment, identify infrastructure needs, and plan for future growth.\n",
    "\n",
    " - Disaster Response and Humanitarian Aid: OSM is often used in disaster response efforts to map affected areas, assess damage, and coordinate relief efforts.\n",
    "\n",
    " - Navigation and Routing: OSM powers numerous navigation and routing applications, providing up-to-date and detailed map data for users around the world"
   ]
  },
  {
   "cell_type": "markdown",
   "metadata": {},
   "source": [
    "## 2. Using OSMnx to Download OSM Data\n",
    "\n",
    "(NOTE: To use OSMnx, you first need to install it into your environment. For this demo, we have already installed it. But for the future, you can always install it using `conda install osmnx` or `pip install osmnx`)"
   ]
  },
  {
   "cell_type": "markdown",
   "metadata": {},
   "source": [
    "Imports for the demo: "
   ]
  },
  {
   "cell_type": "code",
   "execution_count": null,
   "metadata": {},
   "outputs": [],
   "source": [
    "# Imports\n",
    "\n",
    "# Pour la visualisation\n",
    "import matplotlib.pyplot as plt\n",
    "from matplotlib.lines import Line2D\n",
    "\n",
    "%matplotlib inline\n",
    "import contextily as cx\n",
    "\n",
    "# Pour manipuler des données géospatiales\n",
    "import geopandas as gpd\n",
    "from shapely.geometry import Polygon, box\n",
    "\n",
    "import pandas as pd\n",
    "\n",
    "\n",
    "# Pour récupérer des données OpenStreetMap\n",
    "import osmnx as ox"
   ]
  },
  {
   "cell_type": "markdown",
   "metadata": {},
   "source": [
    "### 2.1  Download street network data for a specific location\n",
    "\n",
    "(NOTE: we will tackle this subjet with more detail in the next demo)"
   ]
  },
  {
   "cell_type": "code",
   "execution_count": null,
   "metadata": {},
   "outputs": [],
   "source": [
    "# Define the location (e.g., city name or coordinates)\n",
    "city_aoi = \"Saint Louis Senegal\"\n",
    "# Fetch OSM street network from the location\n",
    "roads_G = ox.graph_from_place(city_aoi, network_type=\"all\")\n",
    "\n",
    "# The network_type parameter allows you to specify the type of street network to download\n",
    "# (e.g., \"all\", \"drive\", \"bike\", \"walk\")."
   ]
  },
  {
   "cell_type": "code",
   "execution_count": null,
   "metadata": {},
   "outputs": [],
   "source": [
    "# Let's check the which type of data object we donload.\n",
    "type(roads_G)"
   ]
  },
  {
   "cell_type": "markdown",
   "metadata": {},
   "source": [
    "A DiGraph is a data type that stores nodes and edges with optional data, or attributes. What we can see here is that this data type belongs to a Python module called networkx that can be used to create, manipulate, and study the structure, dynamics, and functions of complex networks. \n",
    "\n",
    "\n",
    "To visualize the graph osmnx has the `plot_graph()`function. `\n",
    "\n"
   ]
  },
  {
   "cell_type": "code",
   "execution_count": null,
   "metadata": {},
   "outputs": [],
   "source": [
    "# Plot the streets\n",
    "fig, ax = ox.plot_graph(roads_G)"
   ]
  },
  {
   "cell_type": "markdown",
   "metadata": {},
   "source": [
    "### 2.2 Exploring the Different Data Layers Available\n",
    "\n",
    "OpenStreetMap represents physical features on the ground (e.g., buildings, amenities, waterways) using tags attached to its basic data structures (its nodes, ways, and relations). \n",
    "\n",
    "Please refer to the [OSM Wiki](https://wiki.openstreetmap.org/wiki/Map_features) to find out more about all the differents map features.\n",
    "\n",
    "Here is how you can download the features with the `features_from_place()` function."
   ]
  },
  {
   "cell_type": "markdown",
   "metadata": {},
   "source": [
    "#### 1. Building  data \n",
    "\n",
    "You can check in the [OSM Wiki](https://wiki.openstreetmap.org/wiki/Buildings), all the tags thats you can find with the 'amenity' key.  "
   ]
  },
  {
   "cell_type": "code",
   "execution_count": null,
   "metadata": {},
   "outputs": [],
   "source": [
    "# Download building data\n",
    "buildings = ox.features_from_place(city_aoi, tags={\"building\": True})\n",
    "\n",
    "# What types are those?\n",
    "print(type(buildings))"
   ]
  },
  {
   "cell_type": "markdown",
   "metadata": {},
   "source": [
    "As a result we got the data as GeoDataFrames."
   ]
  },
  {
   "cell_type": "code",
   "execution_count": null,
   "metadata": {},
   "outputs": [],
   "source": [
    "buildings.head()"
   ]
  },
  {
   "cell_type": "markdown",
   "metadata": {},
   "source": [
    "Get specific type of building :"
   ]
  },
  {
   "cell_type": "code",
   "execution_count": null,
   "metadata": {},
   "outputs": [],
   "source": [
    "hotel = ox.features_from_place(city_aoi, tags={\"building\": \"hotel\"})"
   ]
  },
  {
   "cell_type": "code",
   "execution_count": null,
   "metadata": {},
   "outputs": [],
   "source": [
    "hotel"
   ]
  },
  {
   "cell_type": "markdown",
   "metadata": {},
   "source": [
    "Differece between nodes, way and relation? "
   ]
  },
  {
   "cell_type": "code",
   "execution_count": null,
   "metadata": {},
   "outputs": [],
   "source": [
    "# Polygons\n",
    "buildings.loc[\"way\"].explore()"
   ]
  },
  {
   "cell_type": "markdown",
   "metadata": {},
   "source": [
    "Why do we have nodes in the building data? "
   ]
  },
  {
   "cell_type": "code",
   "execution_count": null,
   "metadata": {},
   "outputs": [],
   "source": [
    "# Points\n",
    "buildings.loc[\"node\"].explore()"
   ]
  },
  {
   "cell_type": "code",
   "execution_count": null,
   "metadata": {},
   "outputs": [],
   "source": [
    "# Multipolygons\n",
    "buildings.loc[\"relation\"].explore()"
   ]
  },
  {
   "cell_type": "code",
   "execution_count": null,
   "metadata": {},
   "outputs": [],
   "source": [
    "f, ax = plt.subplots(figsize=(10, 10))\n",
    "buildings.loc[[\"way\", \"relation\"]].plot(ax=ax)\n",
    "ax.set_axis_off()\n",
    "plt.show()"
   ]
  },
  {
   "cell_type": "code",
   "execution_count": null,
   "metadata": {},
   "outputs": [],
   "source": [
    "# Get the area of the first polygon in the GeoDataFrame\n",
    "buildings[\"area\"] = buildings[\"geometry\"].area"
   ]
  },
  {
   "cell_type": "code",
   "execution_count": null,
   "metadata": {},
   "outputs": [],
   "source": [
    "f, ax = plt.subplots(figsize=(10, 10))\n",
    "buildings.loc[[\"way\", \"relation\"]][160:260].plot(\n",
    "    column=\"area\", ax=ax, legend=True, cmap=\"Blues\"\n",
    ")\n",
    "ax.set_axis_off()\n",
    "plt.show()"
   ]
  },
  {
   "cell_type": "markdown",
   "metadata": {},
   "source": [
    "#### 2. Amenities (POIS)\n",
    "\n",
    "You can check in the [OSM Wiki](https://wiki.openstreetmap.org/wiki/Key:amenity), all the tags thats you can find with the 'amenity' key.  "
   ]
  },
  {
   "cell_type": "code",
   "execution_count": null,
   "metadata": {},
   "outputs": [],
   "source": [
    "city2_aoi = \"New york, usa\"\n",
    "\n",
    "# Retrieve schools\n",
    "bars_city = ox.features_from_place(city_aoi, tags={\"amenity\": \"bar\"})\n",
    "bars_city2 = ox.features_from_place(city2_aoi, tags={\"amenity\": \"bar\"})"
   ]
  },
  {
   "cell_type": "code",
   "execution_count": null,
   "metadata": {},
   "outputs": [],
   "source": [
    "# How many schools we got?\n",
    "print(\"We got\", len(bars_city), \"bars in\", city_aoi)\n",
    "print(\"We got\", len(bars_city2), \"bars in\", city2_aoi)"
   ]
  },
  {
   "cell_type": "code",
   "execution_count": null,
   "metadata": {},
   "outputs": [],
   "source": [
    "bars_city2[\"geometry\"]"
   ]
  },
  {
   "cell_type": "code",
   "execution_count": null,
   "metadata": {},
   "outputs": [],
   "source": [
    "# Make subplots that are next to each other\n",
    "fig, (ax1, ax2) = plt.subplots(nrows=1, ncols=2, figsize=(8, 6))\n",
    "fig.suptitle(\"Comparaison between the data gotten from St.-Louis vs. New York\")\n",
    "\n",
    "\n",
    "# Plot bars in the first city (st-louis)\n",
    "bars_city.plot(ax=ax1)\n",
    "# Add title\n",
    "ax1.set_title(\"Bars in St-louis\")\n",
    "\n",
    "# Plot bars in the first city (st-louis)\n",
    "bars_city2.plot(ax=ax2)\n",
    "# Add title\n",
    "ax2.set_title(\"Bars in New York\")\n",
    "\n",
    "\n",
    "# Tight layout often produces nice results\n",
    "# But requires the title to be spaced accordingly\n",
    "fig.tight_layout()\n",
    "fig.subplots_adjust(top=0.88)\n",
    "\n",
    "plt.show()"
   ]
  },
  {
   "cell_type": "markdown",
   "metadata": {},
   "source": [
    "We can explore the GeopDataFrame: "
   ]
  },
  {
   "cell_type": "code",
   "execution_count": null,
   "metadata": {},
   "outputs": [],
   "source": [
    "bars_city2.columns"
   ]
  },
  {
   "cell_type": "markdown",
   "metadata": {},
   "source": [
    "You can select the columns you are interested in : "
   ]
  },
  {
   "cell_type": "code",
   "execution_count": null,
   "metadata": {},
   "outputs": [],
   "source": [
    "cols = [\n",
    "    \"name\",\n",
    "    \"addr:country\",\n",
    "    \"addr:housenumber\",\n",
    "    \"addr:postcode\",\n",
    "    \"addr:state\",\n",
    "    \"addr:street\",\n",
    "    \"addr:city\",\n",
    "    \"opening_hours\",\n",
    "]"
   ]
  },
  {
   "cell_type": "code",
   "execution_count": null,
   "metadata": {},
   "outputs": [],
   "source": [
    "bars_city2[cols]"
   ]
  },
  {
   "cell_type": "markdown",
   "metadata": {},
   "source": [
    "Visualize the geoDataFrame: "
   ]
  },
  {
   "cell_type": "code",
   "execution_count": null,
   "metadata": {},
   "outputs": [],
   "source": [
    "bars_city2.explore()"
   ]
  },
  {
   "cell_type": "markdown",
   "metadata": {},
   "source": [
    "#### 3. Waterways \n",
    "\n",
    "\n",
    "You can check in the [OSM Wiki](https://wiki.openstreetmap.org/wiki/Waterways), all the tags thats you can find with the 'waterway' key.  "
   ]
  },
  {
   "cell_type": "code",
   "execution_count": null,
   "metadata": {},
   "outputs": [],
   "source": [
    "# Fetch waterway data from OpenStreetMap\n",
    "waterways = ox.features_from_place(city_aoi, tags={\"waterway\": True})\n",
    "\n",
    "# Convert the waterways to a GeoDataFrame\n",
    "waterways_gdf = gpd.GeoDataFrame(waterways)\n",
    "\n",
    "# Plot the waterways (optional)\n",
    "waterways_gdf.plot()"
   ]
  },
  {
   "cell_type": "markdown",
   "metadata": {},
   "source": [
    "### 2.3 From graph to gdf \n",
    "\n",
    "The street network data was not in GeoDataFrame format (it was networkx.MultiDiGraph). Luckily, osmnx provides a convenient function `graph_to_gdfs()`` that can convert the graph into two separate GeoDataFrames where the first one contains the information about the nodes and the second one about the edge."
   ]
  },
  {
   "cell_type": "code",
   "execution_count": null,
   "metadata": {},
   "outputs": [],
   "source": [
    "# Retrieve nodes and edges\n",
    "nodes, edges = ox.graph_to_gdfs(roads_G)\n",
    "print(\"Nodes:\\n\", nodes.head(), \"\\n\")\n",
    "print(\"Edges:\\n\", edges.head(), \"\\n\")\n",
    "print(\"Type:\", type(edges))"
   ]
  },
  {
   "cell_type": "markdown",
   "metadata": {},
   "source": [
    "### 2.4 Plot "
   ]
  },
  {
   "cell_type": "code",
   "execution_count": null,
   "metadata": {},
   "outputs": [],
   "source": [
    "# load the land use from st.louis\n",
    "data_filepath = \"../data/land_use_gdf_2016.gpkg\"\n",
    "stlouis_land_use_gdf = gpd.read_file(data_filepath)\n",
    "stlouis_land_use_gdf.head(3)"
   ]
  },
  {
   "cell_type": "code",
   "execution_count": null,
   "metadata": {},
   "outputs": [],
   "source": [
    "# Plot the footprint\n",
    "ax = stlouis_land_use_gdf.plot(figsize=(10, 10), facecolor=\"grey\")\n",
    "\n",
    "# Plot the waterways\n",
    "waterways.to_crs(stlouis_land_use_gdf.crs).plot(ax=ax, facecolor=\"blue\")\n",
    "\n",
    "# Plot street edges\n",
    "edges.to_crs(stlouis_land_use_gdf.crs).plot(ax=ax, linewidth=1, edgecolor=\"#BC8F8F\")\n",
    "\n",
    "# Plot buildings\n",
    "buildings.to_crs(stlouis_land_use_gdf.crs).plot(ax=ax, facecolor=\"orange\", alpha=0.7)\n",
    "\n",
    "# Plot restaurants\n",
    "bars_city.to_crs(stlouis_land_use_gdf.crs).plot(ax=ax, color=\"yellow\", markersize=20)\n",
    "\n",
    "# Create custom legend handles\n",
    "legend_handles = [\n",
    "    Line2D(\n",
    "        [0],\n",
    "        [0],\n",
    "        marker=\"o\",\n",
    "        color=\"w\",\n",
    "        markerfacecolor=\"yellow\",\n",
    "        markersize=10,\n",
    "        label=\"bars\",\n",
    "        alpha=0.7,\n",
    "    ),\n",
    "    Line2D(\n",
    "        [0],\n",
    "        [0],\n",
    "        marker=\"o\",\n",
    "        color=\"w\",\n",
    "        markerfacecolor=\"orange\",\n",
    "        markersize=10,\n",
    "        label=\"Building Area\",\n",
    "        alpha=0.7,\n",
    "    ),\n",
    "    Line2D(\n",
    "        [0],\n",
    "        [0],\n",
    "        marker=\"o\",\n",
    "        color=\"w\",\n",
    "        markerfacecolor=\"blue\",\n",
    "        markersize=10,\n",
    "        label=\"Waterways\",\n",
    "        alpha=0.8,\n",
    "    ),\n",
    "]\n",
    "\n",
    "# Add basemap using Contextily\n",
    "cx.add_basemap(ax, crs=stlouis_land_use_gdf.crs.to_string(), attribution=\"\")\n",
    "\n",
    "# Add legend with custom handles\n",
    "ax.legend(handles=legend_handles)\n",
    "\n",
    "plt.title(\"POIS in St Louis. 2016\")\n",
    "plt.xlabel(\"Longitude\")\n",
    "plt.ylabel(\"Latitude\")\n",
    "\n",
    "\n",
    "plt.show()"
   ]
  }
 ],
 "metadata": {
  "kernelspec": {
   "display_name": "planification_urbaine_sud",
   "language": "python",
   "name": "python3"
  },
  "language_info": {
   "codemirror_mode": {
    "name": "ipython",
    "version": 3
   },
   "file_extension": ".py",
   "mimetype": "text/x-python",
   "name": "python",
   "nbconvert_exporter": "python",
   "pygments_lexer": "ipython3",
   "version": "3.11.7"
  }
 },
 "nbformat": 4,
 "nbformat_minor": 2
}
